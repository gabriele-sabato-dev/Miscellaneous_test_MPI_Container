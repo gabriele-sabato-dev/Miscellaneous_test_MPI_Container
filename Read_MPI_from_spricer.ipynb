{
 "cells": [
  {
   "cell_type": "code",
   "execution_count": 1,
   "metadata": {
    "collapsed": true
   },
   "outputs": [],
   "source": [
    "from pyspark.sql import SparkSession\n",
    "from pyspark.sql.functions import *\n",
    "spark = SparkSession.builder.master('local').config('spark.driver.memory', '8g').appName('Ready_for_analysis').getOrCreate()\n",
    "\n"
   ]
  },
  {
   "cell_type": "code",
   "execution_count": 2,
   "metadata": {
    "pycharm": {
     "name": "#%%\n"
    }
   },
   "outputs": [],
   "source": [
    "df = spark.read.parquet(\n",
    "    '/Users/gabriele.sabato/PycharmProjects/raw_data/MPI/*',\n",
    "    header=True)\n"
   ]
  },
  {
   "cell_type": "code",
   "execution_count": 3,
   "metadata": {
    "pycharm": {
     "name": "#%%\n"
    }
   },
   "outputs": [],
   "source": [
    "df.createOrReplaceTempView('MPI_test')\n"
   ]
  },
  {
   "cell_type": "code",
   "execution_count": 4,
   "metadata": {
    "pycharm": {
     "name": "#%%\n"
    }
   },
   "outputs": [
    {
     "name": "stdout",
     "output_type": "stream",
     "text": [
      "+-----------+-----------------------------+------------------------------------+------------------+--------------------------------+-------------------------+-------------------------+-------------------------+\n",
      "|scrape_date|master_price_api_market_price|master_price_api_market_price_last3m|         item_code|master_priceapi_competitor_count|master_item_main_category|master_item_sub_category1|master_item_sub_category2|\n",
      "+-----------+-----------------------------+------------------------------------+------------------+--------------------------------+-------------------------+-------------------------+-------------------------+\n",
      "| 2020-12-15|                        160.7|                               160.7|000000001000150797|                             5.0|                 LEUCHTEN|            INNENLEUCHTEN|              BADLEUCHTEN|\n",
      "| 2020-12-15|                       248.14|                              248.14|000000001000191998|                             5.0|                      BAD|                   BADSET|                   BADSET|\n",
      "| 2020-12-15|                        542.6|                               542.6|000000001000133695|                             5.0|                   WOHNEN|     KOMMODEN & SIDEBO...|               HIGHBOARDS|\n",
      "| 2020-12-15|                        50.52|                               50.52|000000001000220828|                             5.0|            HEIMTEXTILIEN|               BETTWÄSCHE|     MAKO-SATIN-BETTWÄ...|\n",
      "| 2020-12-15|                        23.35|                               23.35|000000001000180637|                             5.0|                 BOUTIQUE|               DEKORATION|                  SCHALEN|\n",
      "| 2020-12-15|                         40.9|                                40.9|000000001000055220|                             5.0|            HEIMTEXTILIEN|     BETTDECKEN & KOPF...|         KUNSTFASERKISSEN|\n",
      "| 2020-12-15|                       164.15|                              164.15|000000001000137415|                             5.0|                 LEUCHTEN|            INNENLEUCHTEN|           DECKENLEUCHTEN|\n",
      "| 2020-12-15|                        22.51|                               22.51|000000001000156054|                             5.0|            HEIMTEXTILIEN|                   KISSEN|             KISSENBEZÜGE|\n",
      "| 2020-12-15|                        33.08|                               33.08|000000001000049662|                             5.0|            HEIMTEXTILIEN|                BETTLAKEN|         JERSEY-BETTLAKEN|\n",
      "| 2020-12-15|                       437.99|                              437.99|000000001000200242|                             3.0|          ESSZIMMERTISCHE|                ESSTISCHE|                KLASSISCH|\n",
      "| 2020-12-15|                        32.95|                               32.95|000000001000181006|                             5.0|            HEIMTEXTILIEN|               HANDTÜCHER|               HANDTÜCHER|\n",
      "| 2020-12-15|                       160.57|                              160.57|000000001000200677|                             5.0|                 LEUCHTEN|            INNENLEUCHTEN|            TISCHLEUCHTEN|\n",
      "| 2020-12-15|                       345.79|                              345.79|000000001000143930|                             4.0|                   WOHNEN|            TV-MEDIAMÖBEL|             TV-LOWBOARDS|\n",
      "| 2020-12-15|                        60.27|                               60.27|000000001000225480|                             3.0|            HEIMTEXTILIEN|               BETTWÄSCHE|         BIBER-BETTWÄSCHE|\n",
      "| 2020-12-15|                         8.49|                                8.49|000000001000017776|                             5.0|            HEIMTEXTILIEN|                   KISSEN|             KISSENBEZÜGE|\n",
      "| 2020-12-15|                        15.06|                               15.06|000000001000180731|                             5.0|                 BOUTIQUE|             AUFBEWAHRUNG|            BOXEN & KÖRBE|\n",
      "| 2020-12-15|                        77.19|                               77.19|000000001000168036|                             5.0|     TEPPICHE & BODENB...|         OUTDOOR-TEPPICHE|         OUTDOOR-TEPPICHE|\n",
      "| 2020-12-15|                        98.35|                               98.35|000000001000179611|                             5.0|                 LEUCHTEN|            INNENLEUCHTEN|           PENDELLEUCHTEN|\n",
      "| 2020-12-15|                         76.4|                                76.4|000000001000171634|                             5.0|                   WOHNEN|                   TISCHE|           BEISTELLTISCHE|\n",
      "| 2020-12-15|                       565.97|                              565.97|000000001000208821|                             5.0|        SCHLAFZIMMERMÖBEL|     KLEIDERSCHRÄNKE &...|        DREHTÜRENSCHRÄNKE|\n",
      "+-----------+-----------------------------+------------------------------------+------------------+--------------------------------+-------------------------+-------------------------+-------------------------+\n",
      "only showing top 20 rows\n",
      "\n"
     ]
    }
   ],
   "source": [
    "df.show()"
   ]
  },
  {
   "cell_type": "code",
   "execution_count": 5,
   "metadata": {
    "pycharm": {
     "name": "#%%\n"
    }
   },
   "outputs": [],
   "source": [
    "df2 = spark.sql('SELECT scrape_date, item_code, master_price_api_market_price_last3m as mpi,master_priceapi_competitor_count,master_item_main_category,master_item_sub_category1 from MPI_test ORDER BY scrape_date DESC')\n",
    "#df2.show()\n",
    "\n",
    "main_cat = spark.sql('SELECT DISTINCT master_item_main_category as category from MPI_test')\n",
    "#main_cat.show()\n",
    "cat_list = main_cat.rdd.map(lambda x: x.category).collect()\n",
    "main_subcat = spark.sql('SELECT DISTINCT master_item_sub_category1 from MPI_test')\n",
    "subcat_list = main_subcat.rdd.map(lambda x: x.master_item_sub_category1).collect()"
   ]
  },
  {
   "cell_type": "code",
   "execution_count": 6,
   "metadata": {
    "pycharm": {
     "name": "#%%\n"
    }
   },
   "outputs": [],
   "source": [
    "pd_df = df2.toPandas()\n"
   ]
  },
  {
   "cell_type": "code",
   "execution_count": 7,
   "metadata": {
    "pycharm": {
     "name": "#%%\n"
    }
   },
   "outputs": [
    {
     "name": "stdout",
     "output_type": "stream",
     "text": [
      "['TEPPICHE & BODENBELÄGE', 'HAUSHALT', 'ESSZIMMERTISCHE', 'LEUCHTEN', 'POLSTER', 'BÜRO', 'KINDER', 'FLURMÖBEL', 'SCHLAFZIMMERMÖBEL', 'WOHNEN', 'GARTEN', 'KÜCHE', 'BOUTIQUE', 'BABY', 'HEIMTEXTILIEN', 'MATRATZEN&LATTENROSTE', 'BETTEN', 'BAD', 'ESSZIMMERSTÜHLE&BÄNKE']\n",
      "['BADEMATTEN & BADTEPPICHE', 'KOMPLETTPROGRAMME & SETS', 'GARTENACCESSOIRES', 'KINDERTEPPICHE', 'GARTENZUBEHÖR', 'SITZWÜRFEL & POLSTERHOCKER', 'NACHTTISCHE', 'BETTLAKEN', 'BÜRO-KOMPLETTSETS', 'HAUSHALT', 'NACHTKOMMODEN', 'SAISONARTIKEL WEIHNACHTEN', 'BADACCESSOIRES', 'HIMMELBETTEN', 'GARTENTISCHE', 'SCHLAFZIMMERSETS', 'HANDTÜCHER', 'FUß- & SAUBERLAUFMATTEN', 'KAMINE', 'SCHLAFSOFAS', 'GARDINEN & VORHÄNGE', 'WANDEKORATION', 'BÜROSCHRÄNKE', 'ESSZIMMERSTÜHLE', 'KURZFLORTEPPICHE', 'BETTDECKEN & KOPFKISSEN', 'RECAMIEREN', 'AUFBEWAHRUNG', 'RELAXLIEGEN', 'ZUBEHÖR', 'TISCHE', 'BETTBÄNKE&BETTTRUHEN', 'TISCHWÄSCHE', 'GARTENSTÜHLE', 'BÄNKE', 'HOCHSTÜHLE & ZUBEHÖR', 'BETTGESTELLE', 'BETTEN & ZUBEHÖR', 'SPIEGEL', 'OUTDOOR-TEPPICHE', 'DUFTARTIKEL', 'ECKSOFAS', 'GARTENLIEGE', 'HOCHFLORTEPPICHE & SHAGGYS', 'BOXSPRINGBETTEN', 'KOMMODEN & SIDEBOARDS', 'DUSCHVORHÄNGE', 'LÄUFER', 'WOHNLANDSCHAFTEN', 'BÜROSTÜHLE', 'BADSET', 'GARDEROBEN', 'KÜCHE', 'MATRATZENTOPPER', 'EINZELSOFAS', 'AUßENLEUCHTEN', 'FELLTEPPICHE', 'KISSEN', 'REGALE', 'TAGESDECKEN & PLAIDS', 'N/A', 'SITZGELEGENHEITEN', 'BADREGALE', 'SCHRÄNKE & ZUBEHÖR', 'BIGSOFAS', 'TISCHE & ZUBEHÖR', 'ESSTISCHE', 'BAR', 'BUFFETS', 'WASCHTISCHE', 'TV-MEDIAMÖBEL', 'VITRINEN & SCHRÄNKE', 'SESSEL', 'KLEIDERSCHRÄNKE & ZUBEHÖR', 'GARTEN LOUNGEMÖBEL', 'KOMMODEN', 'BARTISCHE', 'DEKORATION', 'SEKRETÄRE', 'BÄNKE & HOCKER', 'BADSCHRÄNKE', 'MATRATZEN', 'BETTEN', 'INNENLEUCHTEN', 'WOLLTEPPICHE', 'BARHOCKER', 'BETTWÄSCHE', 'SCHREIBTISCHE', 'LATTENROSTE', 'WICKELKOMMODEN & ZUBEHÖR', 'SCHRÄNKE', 'SCHMINKTISCHE', 'SCHUHSCHRÄNKE']\n"
     ]
    }
   ],
   "source": [
    "print(cat_list)\n",
    "print(subcat_list)\n",
    "cat_list_copy = cat_list"
   ]
  },
  {
   "cell_type": "code",
   "execution_count": 8,
   "metadata": {
    "pycharm": {
     "name": "#%%\n"
    }
   },
   "outputs": [
    {
     "data": {
      "text/plain": "<IPython.core.display.HTML object>",
      "text/html": "<style>.container { width:100% !important; }</style>"
     },
     "metadata": {},
     "output_type": "display_data"
    }
   ],
   "source": [
    "import pandas as pd\n",
    "import numpy as np\n",
    "\n",
    "import statsmodels.formula.api as smf\n",
    "\n",
    "%matplotlib inline\n",
    "import matplotlib.pyplot as plt\n",
    "plt.style.use('seaborn-whitegrid')\n",
    "\n",
    "from IPython.core.display import display, HTML\n",
    "display(HTML(\"<style>.container { width:100% !important; }</style>\"))\n",
    "\n",
    "pd.set_option('display.max_rows', 5000)\n"
   ]
  },
  {
   "cell_type": "code",
   "execution_count": 9,
   "metadata": {
    "pycharm": {
     "name": "#%%\n"
    }
   },
   "outputs": [
    {
     "name": "stdout",
     "output_type": "stream",
     "text": [
      "2020-12-15\n",
      "2020-09-29\n"
     ]
    }
   ],
   "source": [
    "print(pd_df['scrape_date'].max())\n",
    "print(pd_df['scrape_date'].min())\n",
    "\n",
    "pd_df['date_delta'] = (pd_df['scrape_date'] - pd_df['scrape_date'].min())  / np.timedelta64(7,'D')\n",
    "pd_df['log_mpi']= np.log(pd_df['mpi'])"
   ]
  },
  {
   "cell_type": "code",
   "execution_count": 10,
   "metadata": {
    "pycharm": {
     "name": "#%%\n"
    }
   },
   "outputs": [],
   "source": [
    "#THINK ABOUT A MINIMUM NUMBER OF POINTS TO MAKE THE PLOT REASONABLE\n",
    "pd_df_one_item = pd_df[pd_df['item_code'] == '000000001000137415']"
   ]
  },
  {
   "cell_type": "code",
   "execution_count": 12,
   "outputs": [
    {
     "data": {
      "text/plain": "<AxesSubplot:xlabel='date_delta'>"
     },
     "execution_count": 12,
     "metadata": {},
     "output_type": "execute_result"
    },
    {
     "data": {
      "text/plain": "<Figure size 432x288 with 1 Axes>",
      "image/png": "[encoded data removed]"
     },
     "metadata": {},
     "output_type": "display_data"
    }
   ],
   "source": [
    "pd_df_one_item.plot('date_delta','mpi',style = 'o')"
   ],
   "metadata": {
    "collapsed": false,
    "pycharm": {
     "name": "#%%\n"
    }
   }
  },
  {
   "cell_type": "code",
   "execution_count": 15,
   "outputs": [
    {
     "data": {
      "text/plain": "       scrape_date           item_code     mpi  \\\n6       2020-12-15  000000001000137415  164.15   \n31630   2020-12-08  000000001000137415  162.25   \n46949   2020-12-01  000000001000137415  164.05   \n79482   2020-11-24  000000001000137415  162.48   \n91758   2020-11-17  000000001000137415  162.48   \n111898  2020-11-10  000000001000137415  162.48   \n140601  2020-11-03  000000001000137415  163.92   \n173091  2020-10-27  000000001000137415  164.26   \n185925  2020-10-20  000000001000137415  166.31   \n209789  2020-10-13  000000001000137415  164.87   \n236211  2020-10-06  000000001000137415  158.77   \n263545  2020-09-29  000000001000137415  158.77   \n\n        master_priceapi_competitor_count master_item_main_category  \\\n6                                    5.0                  LEUCHTEN   \n31630                                5.0                  LEUCHTEN   \n46949                                5.0                  LEUCHTEN   \n79482                                5.0                  LEUCHTEN   \n91758                                5.0                  LEUCHTEN   \n111898                               5.0                  LEUCHTEN   \n140601                               5.0                  LEUCHTEN   \n173091                               5.0                  LEUCHTEN   \n185925                               5.0                  LEUCHTEN   \n209789                               5.0                  LEUCHTEN   \n236211                               5.0                  LEUCHTEN   \n263545                               5.0                  LEUCHTEN   \n\n       master_item_sub_category1  date_delta   log_mpi  \n6                  INNENLEUCHTEN        11.0  5.100781  \n31630              INNENLEUCHTEN        10.0  5.089138  \n46949              INNENLEUCHTEN         9.0  5.100171  \n79482              INNENLEUCHTEN         8.0  5.090555  \n91758              INNENLEUCHTEN         7.0  5.090555  \n111898             INNENLEUCHTEN         6.0  5.090555  \n140601             INNENLEUCHTEN         5.0  5.099379  \n173091             INNENLEUCHTEN         4.0  5.101451  \n185925             INNENLEUCHTEN         3.0  5.113854  \n209789             INNENLEUCHTEN         2.0  5.105157  \n236211             INNENLEUCHTEN         1.0  5.067457  \n263545             INNENLEUCHTEN         0.0  5.067457  ",
      "text/html": "<div>\n<style scoped>\n    .dataframe tbody tr th:only-of-type {\n        vertical-align: middle;\n    }\n\n    .dataframe tbody tr th {\n        vertical-align: top;\n    }\n\n    .dataframe thead th {\n        text-align: right;\n    }\n</style>\n<table border=\"1\" class=\"dataframe\">\n  <thead>\n    <tr style=\"text-align: right;\">\n      <th></th>\n      <th>scrape_date</th>\n      <th>item_code</th>\n      <th>mpi</th>\n      <th>master_priceapi_competitor_count</th>\n      <th>master_item_main_category</th>\n      <th>master_item_sub_category1</th>\n      <th>date_delta</th>\n      <th>log_mpi</th>\n    </tr>\n  </thead>\n  <tbody>\n    <tr>\n      <th>6</th>\n      <td>2020-12-15</td>\n      <td>000000001000137415</td>\n      <td>164.15</td>\n      <td>5.0</td>\n      <td>LEUCHTEN</td>\n      <td>INNENLEUCHTEN</td>\n      <td>11.0</td>\n      <td>5.100781</td>\n    </tr>\n    <tr>\n      <th>31630</th>\n      <td>2020-12-08</td>\n      <td>000000001000137415</td>\n      <td>162.25</td>\n      <td>5.0</td>\n      <td>LEUCHTEN</td>\n      <td>INNENLEUCHTEN</td>\n      <td>10.0</td>\n      <td>5.089138</td>\n    </tr>\n    <tr>\n      <th>46949</th>\n      <td>2020-12-01</td>\n      <td>000000001000137415</td>\n      <td>164.05</td>\n      <td>5.0</td>\n      <td>LEUCHTEN</td>\n      <td>INNENLEUCHTEN</td>\n      <td>9.0</td>\n      <td>5.100171</td>\n    </tr>\n    <tr>\n      <th>79482</th>\n      <td>2020-11-24</td>\n      <td>000000001000137415</td>\n      <td>162.48</td>\n      <td>5.0</td>\n      <td>LEUCHTEN</td>\n      <td>INNENLEUCHTEN</td>\n      <td>8.0</td>\n      <td>5.090555</td>\n    </tr>\n    <tr>\n      <th>91758</th>\n      <td>2020-11-17</td>\n      <td>000000001000137415</td>\n      <td>162.48</td>\n      <td>5.0</td>\n      <td>LEUCHTEN</td>\n      <td>INNENLEUCHTEN</td>\n      <td>7.0</td>\n      <td>5.090555</td>\n    </tr>\n    <tr>\n      <th>111898</th>\n      <td>2020-11-10</td>\n      <td>000000001000137415</td>\n      <td>162.48</td>\n      <td>5.0</td>\n      <td>LEUCHTEN</td>\n      <td>INNENLEUCHTEN</td>\n      <td>6.0</td>\n      <td>5.090555</td>\n    </tr>\n    <tr>\n      <th>140601</th>\n      <td>2020-11-03</td>\n      <td>000000001000137415</td>\n      <td>163.92</td>\n      <td>5.0</td>\n      <td>LEUCHTEN</td>\n      <td>INNENLEUCHTEN</td>\n      <td>5.0</td>\n      <td>5.099379</td>\n    </tr>\n    <tr>\n      <th>173091</th>\n      <td>2020-10-27</td>\n      <td>000000001000137415</td>\n      <td>164.26</td>\n      <td>5.0</td>\n      <td>LEUCHTEN</td>\n      <td>INNENLEUCHTEN</td>\n      <td>4.0</td>\n      <td>5.101451</td>\n    </tr>\n    <tr>\n      <th>185925</th>\n      <td>2020-10-20</td>\n      <td>000000001000137415</td>\n      <td>166.31</td>\n      <td>5.0</td>\n      <td>LEUCHTEN</td>\n      <td>INNENLEUCHTEN</td>\n      <td>3.0</td>\n      <td>5.113854</td>\n    </tr>\n    <tr>\n      <th>209789</th>\n      <td>2020-10-13</td>\n      <td>000000001000137415</td>\n      <td>164.87</td>\n      <td>5.0</td>\n      <td>LEUCHTEN</td>\n      <td>INNENLEUCHTEN</td>\n      <td>2.0</td>\n      <td>5.105157</td>\n    </tr>\n    <tr>\n      <th>236211</th>\n      <td>2020-10-06</td>\n      <td>000000001000137415</td>\n      <td>158.77</td>\n      <td>5.0</td>\n      <td>LEUCHTEN</td>\n      <td>INNENLEUCHTEN</td>\n      <td>1.0</td>\n      <td>5.067457</td>\n    </tr>\n    <tr>\n      <th>263545</th>\n      <td>2020-09-29</td>\n      <td>000000001000137415</td>\n      <td>158.77</td>\n      <td>5.0</td>\n      <td>LEUCHTEN</td>\n      <td>INNENLEUCHTEN</td>\n      <td>0.0</td>\n      <td>5.067457</td>\n    </tr>\n  </tbody>\n</table>\n</div>"
     },
     "execution_count": 15,
     "metadata": {},
     "output_type": "execute_result"
    }
   ],
   "source": [
    "pd_df_one_item.head(20)\n"
   ],
   "metadata": {
    "collapsed": false,
    "pycharm": {
     "name": "#%%\n"
    }
   }
  },
  {
   "cell_type": "code",
   "execution_count": 53,
   "metadata": {
    "pycharm": {
     "name": "#%%\n"
    }
   },
   "outputs": [],
   "source": [
    "def run_model(data_frame=pd_df):\n",
    "    return smf.ols(\"mpi ~ date_delta + C(item_code)\",data_frame).fit()"
   ]
  },
  {
   "cell_type": "code",
   "execution_count": 54,
   "metadata": {
    "pycharm": {
     "name": "#%%\n"
    }
   },
   "outputs": [
    {
     "name": "stdout",
     "output_type": "stream",
     "text": [
      "['TEPPICHE & BODENBELÄGE', 'HAUSHALT', 'ESSZIMMERTISCHE', 'LEUCHTEN', 'POLSTER', 'BÜRO', 'KINDER', 'FLURMÖBEL', 'SCHLAFZIMMERMÖBEL', 'WOHNEN', 'GARTEN', 'KÜCHE', 'BOUTIQUE', 'BABY', 'HEIMTEXTILIEN', 'MATRATZEN&LATTENROSTE', 'BETTEN', 'BAD', 'ESSZIMMERSTÜHLE&BÄNKE']\n",
      "['TEPPICHE & BODENBELÄGE', 'HAUSHALT', 'ESSZIMMERTISCHE', 'LEUCHTEN', 'POLSTER', 'BÜRO', 'KINDER', 'FLURMÖBEL', 'SCHLAFZIMMERMÖBEL', 'WOHNEN', 'GARTEN', 'KÜCHE', 'BOUTIQUE', 'BABY', 'MATRATZEN&LATTENROSTE', 'BETTEN', 'BAD', 'ESSZIMMERSTÜHLE&BÄNKE']\n"
     ]
    }
   ],
   "source": [
    "print(cat_list)\n",
    "cat_list.remove('HEIMTEXTILIEN')\n",
    "print(cat_list)"
   ]
  },
  {
   "cell_type": "code",
   "execution_count": 34,
   "metadata": {
    "pycharm": {
     "name": "#%%\n"
    }
   },
   "outputs": [
    {
     "name": "stdout",
     "output_type": "stream",
     "text": [
      "Category = TEPPICHE & BODENBELÄGE\n",
      "Category = HAUSHALT\n",
      "Category = ESSZIMMERTISCHE\n",
      "Category = LEUCHTEN\n",
      "Category = POLSTER\n",
      "Category = BÜRO\n",
      "Category = KINDER\n",
      "Category = FLURMÖBEL\n",
      "Category = SCHLAFZIMMERMÖBEL\n",
      "Category = WOHNEN\n",
      "Category = GARTEN\n",
      "Category = KÜCHE\n",
      "Category = BOUTIQUE\n",
      "Category = BABY\n",
      "Category = MATRATZEN&LATTENROSTE\n",
      "Category = BETTEN\n",
      "Category = BAD\n",
      "Category = ESSZIMMERSTÜHLE&BÄNKE\n",
      "dict_keys(['TEPPICHE & BODENBELÄGE', 'HAUSHALT', 'ESSZIMMERTISCHE', 'LEUCHTEN', 'POLSTER', 'BÜRO', 'KINDER', 'FLURMÖBEL', 'SCHLAFZIMMERMÖBEL', 'WOHNEN', 'GARTEN', 'KÜCHE', 'BOUTIQUE', 'BABY', 'MATRATZEN&LATTENROSTE', 'BETTEN', 'BAD', 'ESSZIMMERSTÜHLE&BÄNKE'])\n"
     ]
    }
   ],
   "source": [
    "models = {}\n",
    "\n",
    "for cat in cat_list:\n",
    "    print('Category = ' + cat)\n",
    "    pd_df_one_cat = pd_df[pd_df['master_item_main_category'] == cat]\n",
    "    models[cat] = run_model(pd_df_one_cat)\n",
    "print(models.keys())\n"
   ]
  },
  {
   "cell_type": "code",
   "execution_count": 40,
   "metadata": {
    "pycharm": {
     "name": "#%%\n"
    }
   },
   "outputs": [
    {
     "name": "stdout",
     "output_type": "stream",
     "text": [
      "TEPPICHE & BODENBELÄGE\n",
      "Trend = -0.15 +/- 0.04\n",
      "HAUSHALT\n",
      "Trend = -1.12 +/- 0.14\n",
      "ESSZIMMERTISCHE\n",
      "Trend = -0.56 +/- 0.19\n",
      "LEUCHTEN\n",
      "Trend = 0.2 +/- 0.04\n",
      "POLSTER\n",
      "Trend = 0.78 +/- 0.18\n",
      "BÜRO\n",
      "Trend = -0.68 +/- 0.12\n",
      "KINDER\n",
      "Trend = -0.34 +/- 0.03\n",
      "FLURMÖBEL\n",
      "Trend = 0.03 +/- 0.03\n",
      "SCHLAFZIMMERMÖBEL\n",
      "Trend = 0.4 +/- 0.38\n",
      "WOHNEN\n",
      "Trend = -0.5 +/- 0.11\n",
      "GARTEN\n",
      "Trend = 0.15 +/- 0.06\n",
      "KÜCHE\n",
      "Trend = 0.63 +/- 0.25\n",
      "BOUTIQUE\n",
      "Trend = -0.04 +/- 0.01\n",
      "BABY\n",
      "Trend = -0.78 +/- 0.2\n",
      "MATRATZEN&LATTENROSTE\n",
      "Trend = -0.22 +/- 0.12\n",
      "BETTEN\n",
      "Trend = -1.37 +/- 0.1\n",
      "BAD\n",
      "Trend = -0.26 +/- 0.11\n",
      "ESSZIMMERSTÜHLE&BÄNKE\n",
      "Trend = -0.58 +/- 0.05\n"
     ]
    }
   ],
   "source": [
    "for categ in models.keys():\n",
    "    print(categ)\n",
    "    m     = models[categ].params[-1].round(2)\n",
    "    m_err = models[categ].bse[-1].round(2)\n",
    "    result = 'Trend = ' + str(m) + ' +/- ' + str(m_err)\n",
    "    #print(models[categ].summary())\n",
    "    print(result)"
   ]
  },
  {
   "cell_type": "code",
   "execution_count": 57,
   "metadata": {
    "pycharm": {
     "name": "#%%\n"
    }
   },
   "outputs": [
    {
     "name": "stdout",
     "output_type": "stream",
     "text": [
      "Category = BADEMATTEN & BADTEPPICHE\n",
      "Category = KOMPLETTPROGRAMME & SETS\n",
      "Category = GARTENACCESSOIRES\n",
      "Category = KINDERTEPPICHE\n",
      "Category = GARTENZUBEHÖR\n",
      "Category = SITZWÜRFEL & POLSTERHOCKER\n",
      "Category = NACHTTISCHE\n",
      "Category = BETTLAKEN\n",
      "Category = BÜRO-KOMPLETTSETS\n",
      "Category = HAUSHALT\n",
      "Category = NACHTKOMMODEN\n",
      "Category = SAISONARTIKEL WEIHNACHTEN\n",
      "Category = BADACCESSOIRES\n",
      "Category = HIMMELBETTEN\n",
      "Category = GARTENTISCHE\n",
      "Category = SCHLAFZIMMERSETS\n",
      "Category = HANDTÜCHER\n",
      "Category = FUß- & SAUBERLAUFMATTEN\n",
      "Category = KAMINE\n",
      "Category = SCHLAFSOFAS\n",
      "Category = GARDINEN & VORHÄNGE\n",
      "Category = WANDEKORATION\n",
      "Category = BÜROSCHRÄNKE\n",
      "Category = ESSZIMMERSTÜHLE\n",
      "Category = KURZFLORTEPPICHE\n",
      "Category = BETTDECKEN & KOPFKISSEN\n",
      "Category = RECAMIEREN\n",
      "Category = AUFBEWAHRUNG\n",
      "Category = RELAXLIEGEN\n",
      "Category = ZUBEHÖR\n",
      "Category = TISCHE\n",
      "Category = BETTBÄNKE&BETTTRUHEN\n",
      "Category = TISCHWÄSCHE\n",
      "Category = GARTENSTÜHLE\n",
      "Category = BÄNKE\n",
      "Category = HOCHSTÜHLE & ZUBEHÖR\n",
      "Category = BETTGESTELLE\n",
      "Category = BETTEN & ZUBEHÖR\n",
      "Category = SPIEGEL\n",
      "Category = OUTDOOR-TEPPICHE\n",
      "Category = DUFTARTIKEL\n",
      "Category = ECKSOFAS\n",
      "Category = GARTENLIEGE\n",
      "Category = HOCHFLORTEPPICHE & SHAGGYS\n",
      "Category = BOXSPRINGBETTEN\n",
      "Category = KOMMODEN & SIDEBOARDS\n",
      "Category = DUSCHVORHÄNGE\n",
      "Category = LÄUFER\n",
      "Category = WOHNLANDSCHAFTEN\n",
      "Category = BÜROSTÜHLE\n",
      "Category = BADSET\n",
      "Category = GARDEROBEN\n",
      "Category = KÜCHE\n",
      "Category = MATRATZENTOPPER\n",
      "Category = EINZELSOFAS\n",
      "Category = AUßENLEUCHTEN\n",
      "Category = FELLTEPPICHE\n",
      "Category = KISSEN\n",
      "Category = REGALE\n",
      "Category = TAGESDECKEN & PLAIDS\n",
      "Category = N/A\n",
      "Category = SITZGELEGENHEITEN\n",
      "Category = BADREGALE\n",
      "Category = SCHRÄNKE & ZUBEHÖR\n",
      "Category = BIGSOFAS\n",
      "Category = TISCHE & ZUBEHÖR\n",
      "Category = ESSTISCHE\n",
      "Category = BAR\n",
      "Category = BUFFETS\n",
      "Category = WASCHTISCHE\n",
      "Category = TV-MEDIAMÖBEL\n",
      "Category = VITRINEN & SCHRÄNKE\n",
      "Category = SESSEL\n",
      "Category = KLEIDERSCHRÄNKE & ZUBEHÖR\n",
      "Category = GARTEN LOUNGEMÖBEL\n",
      "Category = KOMMODEN\n",
      "Category = BARTISCHE\n",
      "Category = DEKORATION\n",
      "Category = SEKRETÄRE\n",
      "Category = BÄNKE & HOCKER\n",
      "Category = BADSCHRÄNKE\n",
      "Category = MATRATZEN\n",
      "Category = BETTEN\n",
      "Category = INNENLEUCHTEN\n",
      "Category = WOLLTEPPICHE\n",
      "Category = BARHOCKER\n",
      "Category = BETTWÄSCHE\n",
      "Category = SCHREIBTISCHE\n",
      "Category = LATTENROSTE\n",
      "Category = WICKELKOMMODEN & ZUBEHÖR\n",
      "Category = SCHRÄNKE\n",
      "Category = SCHMINKTISCHE\n",
      "Category = SCHUHSCHRÄNKE\n",
      "dict_keys(['BADEMATTEN & BADTEPPICHE', 'KOMPLETTPROGRAMME & SETS', 'GARTENACCESSOIRES', 'KINDERTEPPICHE', 'GARTENZUBEHÖR', 'SITZWÜRFEL & POLSTERHOCKER', 'NACHTTISCHE', 'BETTLAKEN', 'BÜRO-KOMPLETTSETS', 'HAUSHALT', 'NACHTKOMMODEN', 'SAISONARTIKEL WEIHNACHTEN', 'BADACCESSOIRES', 'HIMMELBETTEN', 'GARTENTISCHE', 'SCHLAFZIMMERSETS', 'HANDTÜCHER', 'FUß- & SAUBERLAUFMATTEN', 'KAMINE', 'SCHLAFSOFAS', 'GARDINEN & VORHÄNGE', 'WANDEKORATION', 'BÜROSCHRÄNKE', 'ESSZIMMERSTÜHLE', 'KURZFLORTEPPICHE', 'BETTDECKEN & KOPFKISSEN', 'RECAMIEREN', 'AUFBEWAHRUNG', 'RELAXLIEGEN', 'ZUBEHÖR', 'TISCHE', 'BETTBÄNKE&BETTTRUHEN', 'TISCHWÄSCHE', 'GARTENSTÜHLE', 'BÄNKE', 'HOCHSTÜHLE & ZUBEHÖR', 'BETTGESTELLE', 'BETTEN & ZUBEHÖR', 'SPIEGEL', 'OUTDOOR-TEPPICHE', 'DUFTARTIKEL', 'ECKSOFAS', 'GARTENLIEGE', 'HOCHFLORTEPPICHE & SHAGGYS', 'BOXSPRINGBETTEN', 'KOMMODEN & SIDEBOARDS', 'DUSCHVORHÄNGE', 'LÄUFER', 'WOHNLANDSCHAFTEN', 'BÜROSTÜHLE', 'BADSET', 'GARDEROBEN', 'KÜCHE', 'MATRATZENTOPPER', 'EINZELSOFAS', 'AUßENLEUCHTEN', 'FELLTEPPICHE', 'KISSEN', 'REGALE', 'TAGESDECKEN & PLAIDS', 'N/A', 'SITZGELEGENHEITEN', 'BADREGALE', 'SCHRÄNKE & ZUBEHÖR', 'BIGSOFAS', 'TISCHE & ZUBEHÖR', 'ESSTISCHE', 'BAR', 'BUFFETS', 'WASCHTISCHE', 'TV-MEDIAMÖBEL', 'VITRINEN & SCHRÄNKE', 'SESSEL', 'KLEIDERSCHRÄNKE & ZUBEHÖR', 'GARTEN LOUNGEMÖBEL', 'KOMMODEN', 'BARTISCHE', 'DEKORATION', 'SEKRETÄRE', 'BÄNKE & HOCKER', 'BADSCHRÄNKE', 'MATRATZEN', 'BETTEN', 'INNENLEUCHTEN', 'WOLLTEPPICHE', 'BARHOCKER', 'BETTWÄSCHE', 'SCHREIBTISCHE', 'LATTENROSTE', 'WICKELKOMMODEN & ZUBEHÖR', 'SCHRÄNKE', 'SCHMINKTISCHE', 'SCHUHSCHRÄNKE'])\n"
     ]
    }
   ],
   "source": [
    "#To investigate HEIMTEXTILIEN\n",
    "sub_models = {}\n",
    "\n",
    "for subcat in subcat_list:\n",
    "    print('Category = ' + subcat)\n",
    "    pd_df_one_subcat = pd_df[pd_df['master_item_sub_category1'] == subcat]\n",
    "    sub_models[subcat] = run_model(pd_df_one_subcat)\n",
    "print(sub_models.keys())\n"
   ]
  },
  {
   "cell_type": "code",
   "execution_count": 58,
   "outputs": [
    {
     "name": "stdout",
     "output_type": "stream",
     "text": [
      "BADEMATTEN & BADTEPPICHE\n",
      "Trend = -0.04 +/- 0.01\n",
      "KOMPLETTPROGRAMME & SETS\n",
      "Trend = 0.18 +/- 0.55\n",
      "GARTENACCESSOIRES\n",
      "Trend = 0.14 +/- 0.06\n",
      "KINDERTEPPICHE\n",
      "Trend = -0.35 +/- 0.06\n",
      "GARTENZUBEHÖR\n",
      "Trend = -0.03 +/- 0.04\n",
      "SITZWÜRFEL & POLSTERHOCKER\n",
      "Trend = 0.11 +/- 0.06\n",
      "NACHTTISCHE\n",
      "Trend = -0.46 +/- 0.12\n",
      "BETTLAKEN\n",
      "Trend = -0.13 +/- 0.01\n",
      "BÜRO-KOMPLETTSETS\n",
      "Trend = -2.24 +/- 2.08\n",
      "HAUSHALT\n",
      "Trend = -1.12 +/- 0.14\n",
      "NACHTKOMMODEN\n",
      "Trend = 0.15 +/- 0.06\n",
      "SAISONARTIKEL WEIHNACHTEN\n",
      "Trend = 0.07 +/- 0.02\n",
      "BADACCESSOIRES\n",
      "Trend = 0.0 +/- 0.01\n",
      "HIMMELBETTEN\n",
      "Trend = -4.92 +/- 4.71\n",
      "GARTENTISCHE\n",
      "Trend = 0.22 +/- 0.18\n",
      "SCHLAFZIMMERSETS\n",
      "Trend = 1.04 +/- 0.59\n",
      "HANDTÜCHER\n",
      "Trend = -0.07 +/- 0.01\n",
      "FUß- & SAUBERLAUFMATTEN\n",
      "Trend = -0.14 +/- 0.02\n",
      "KAMINE\n",
      "Trend = -11.97 +/- 2.51\n",
      "SCHLAFSOFAS\n",
      "Trend = 0.48 +/- 0.39\n",
      "GARDINEN & VORHÄNGE\n",
      "Trend = 0.13 +/- 0.01\n",
      "WANDEKORATION\n",
      "Trend = -0.19 +/- 0.02\n",
      "BÜROSCHRÄNKE\n",
      "Trend = -1.0 +/- 0.23\n",
      "ESSZIMMERSTÜHLE\n",
      "Trend = -0.74 +/- 0.06\n",
      "KURZFLORTEPPICHE\n",
      "Trend = -0.69 +/- 0.06\n",
      "BETTDECKEN & KOPFKISSEN\n",
      "Trend = -0.76 +/- 0.09\n",
      "RECAMIEREN\n",
      "Trend = -0.37 +/- 0.27\n",
      "AUFBEWAHRUNG\n",
      "Trend = -0.04 +/- 0.01\n",
      "RELAXLIEGEN\n",
      "Trend = 6.72 +/- 3.68\n",
      "ZUBEHÖR\n",
      "Trend = -0.05 +/- 0.08\n",
      "TISCHE\n",
      "Trend = 0.72 +/- 0.19\n",
      "BETTBÄNKE&BETTTRUHEN\n",
      "Trend = 0.09 +/- 0.24\n",
      "TISCHWÄSCHE\n",
      "Trend = -0.04 +/- 0.01\n",
      "GARTENSTÜHLE\n",
      "Trend = 0.66 +/- 0.16\n",
      "BÄNKE\n",
      "Trend = 0.14 +/- 0.18\n",
      "HOCHSTÜHLE & ZUBEHÖR\n",
      "Trend = -0.22 +/- 0.18\n",
      "BETTGESTELLE\n",
      "Trend = -1.24 +/- 0.09\n",
      "BETTEN & ZUBEHÖR\n",
      "Trend = -0.06 +/- 0.05\n",
      "SPIEGEL\n",
      "Trend = 0.27 +/- 0.17\n",
      "OUTDOOR-TEPPICHE\n",
      "Trend = 0.35 +/- 0.15\n",
      "DUFTARTIKEL\n",
      "Trend = -0.24 +/- 0.14\n",
      "ECKSOFAS\n",
      "Trend = 2.2 +/- 0.57\n",
      "GARTENLIEGE\n",
      "Trend = 0.01 +/- 0.16\n",
      "HOCHFLORTEPPICHE & SHAGGYS\n",
      "Trend = 0.37 +/- 0.05\n",
      "BOXSPRINGBETTEN\n",
      "Trend = -1.77 +/- 0.25\n",
      "KOMMODEN & SIDEBOARDS\n",
      "Trend = -0.66 +/- 0.06\n",
      "DUSCHVORHÄNGE\n",
      "Trend = -0.04 +/- 0.02\n",
      "LÄUFER\n",
      "Trend = 0.03 +/- 0.04\n",
      "WOHNLANDSCHAFTEN\n",
      "Trend = 1.57 +/- 0.44\n",
      "BÜROSTÜHLE\n",
      "Trend = 0.06 +/- 0.08\n",
      "BADSET\n",
      "Trend = -1.51 +/- 0.14\n",
      "GARDEROBEN\n",
      "Trend = 0.14 +/- 0.03\n",
      "KÜCHE\n",
      "Trend = 0.63 +/- 0.25\n",
      "MATRATZENTOPPER\n",
      "Trend = 0.2 +/- 0.09\n",
      "EINZELSOFAS\n",
      "Trend = -1.11 +/- 0.73\n",
      "AUßENLEUCHTEN\n",
      "Trend = 0.05 +/- 0.02\n",
      "FELLTEPPICHE\n",
      "Trend = -0.36 +/- 0.18\n",
      "KISSEN\n",
      "Trend = -0.02 +/- 0.01\n",
      "REGALE\n",
      "Trend = -0.38 +/- 0.03\n",
      "TAGESDECKEN & PLAIDS\n",
      "Trend = -0.01 +/- 0.01\n",
      "N/A\n",
      "Trend = 0.0 +/- 0.03\n",
      "SITZGELEGENHEITEN\n",
      "Trend = -0.02 +/- 0.02\n",
      "BADREGALE\n",
      "Trend = 0.14 +/- 0.03\n",
      "SCHRÄNKE & ZUBEHÖR\n",
      "Trend = -1.26 +/- 0.15\n",
      "BIGSOFAS\n",
      "Trend = -0.37 +/- 0.12\n",
      "TISCHE & ZUBEHÖR\n",
      "Trend = -0.48 +/- 0.11\n",
      "ESSTISCHE\n",
      "Trend = -0.6 +/- 0.2\n",
      "BAR\n",
      "Trend = 2.17 +/- 1.25\n",
      "BUFFETS\n",
      "Trend = 0.85 +/- 0.73\n",
      "WASCHTISCHE\n",
      "Trend = -0.42 +/- 0.08\n",
      "TV-MEDIAMÖBEL\n",
      "Trend = 0.26 +/- 0.5\n",
      "VITRINEN & SCHRÄNKE\n",
      "Trend = -0.54 +/- 0.09\n",
      "SESSEL\n",
      "Trend = -0.25 +/- 0.16\n",
      "KLEIDERSCHRÄNKE & ZUBEHÖR\n",
      "Trend = -0.39 +/- 0.07\n",
      "GARTEN LOUNGEMÖBEL\n",
      "Trend = 0.6 +/- 0.3\n",
      "KOMMODEN\n",
      "Trend = 7.59 +/- 4.28\n",
      "BARTISCHE\n",
      "Trend = -0.26 +/- 0.1\n",
      "DEKORATION\n",
      "Trend = -0.03 +/- 0.02\n",
      "SEKRETÄRE\n",
      "Trend = -2.04 +/- 0.31\n",
      "BÄNKE & HOCKER\n",
      "Trend = -0.06 +/- 0.18\n",
      "BADSCHRÄNKE\n",
      "Trend = 0.07 +/- 0.18\n",
      "MATRATZEN\n",
      "Trend = -0.41 +/- 0.17\n",
      "BETTEN\n",
      "Trend = -1.15 +/- 0.18\n",
      "INNENLEUCHTEN\n",
      "Trend = 0.21 +/- 0.04\n",
      "WOLLTEPPICHE\n",
      "Trend = -0.3 +/- 0.16\n",
      "BARHOCKER\n",
      "Trend = -0.42 +/- 0.07\n",
      "BETTWÄSCHE\n",
      "Trend = -0.01 +/- 0.01\n",
      "SCHREIBTISCHE\n",
      "Trend = -0.56 +/- 0.11\n",
      "LATTENROSTE\n",
      "Trend = 0.13 +/- 0.09\n",
      "WICKELKOMMODEN & ZUBEHÖR\n",
      "Trend = 0.18 +/- 0.21\n",
      "SCHRÄNKE\n",
      "Trend = -1.56 +/- 0.79\n",
      "SCHMINKTISCHE\n",
      "Trend = 1.59 +/- 0.29\n",
      "SCHUHSCHRÄNKE\n",
      "Trend = -0.21 +/- 0.06\n"
     ]
    }
   ],
   "source": [
    "for subcateg in sub_models.keys():\n",
    "    print(subcateg)\n",
    "    m     = sub_models[subcateg].params[-1].round(2)\n",
    "    m_err = sub_models[subcateg].bse[-1].round(2)\n",
    "    result = 'Trend = ' + str(m) + ' +/- ' + str(m_err)\n",
    "    #print(models[categ].summary())\n",
    "    print(result)"
   ],
   "metadata": {
    "collapsed": false,
    "pycharm": {
     "name": "#%%\n"
    }
   }
  },
  {
   "cell_type": "code",
   "execution_count": null,
   "outputs": [],
   "source": [],
   "metadata": {
    "collapsed": false,
    "pycharm": {
     "name": "#%%\n"
    }
   }
  }
 ],
 "metadata": {
  "kernelspec": {
   "display_name": "Python 3",
   "language": "python",
   "name": "python3"
  },
  "language_info": {
   "codemirror_mode": {
    "name": "ipython",
    "version": 3
   },
   "file_extension": ".py",
   "mimetype": "text/x-python",
   "name": "python",
   "nbconvert_exporter": "python",
   "pygments_lexer": "ipython3",
   "version": "3.8.5"
  }
 },
 "nbformat": 4,
 "nbformat_minor": 1
}