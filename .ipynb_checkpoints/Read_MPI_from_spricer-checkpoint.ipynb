{
 "cells": [
  {
   "cell_type": "code",
   "execution_count": 1,
   "metadata": {
    "collapsed": true
   },
   "outputs": [],
   "source": [
    "from pyspark.sql import SparkSession\n",
    "from pyspark.sql.functions import *\n",
    "spark = SparkSession.builder.master('local').config('spark.driver.memory', '8g').appName('Ready_for_analysis').getOrCreate()\n",
    "\n"
   ]
  },
  {
   "cell_type": "code",
   "execution_count": 2,
   "metadata": {
    "pycharm": {
     "name": "#%%\n"
    }
   },
   "outputs": [],
   "source": [
    "df = spark.read.parquet(\n",
    "    '/Users/gabriele.sabato/PycharmProjects/raw_data/MPI/*',\n",
    "    header=True)\n"
   ]
  },
  {
   "cell_type": "code",
   "execution_count": 3,
   "metadata": {
    "pycharm": {
     "name": "#%%\n"
    }
   },
   "outputs": [],
   "source": [
    "df.createOrReplaceTempView('MPI_test')\n"
   ]
  },
  {
   "cell_type": "code",
   "execution_count": 4,
   "metadata": {
    "pycharm": {
     "name": "#%%\n"
    }
   },
   "outputs": [
    {
     "name": "stdout",
     "output_type": "stream",
     "text": [
      "+-----------+-----------------------------+------------------------------------+------------------+--------------------------------+-------------------------+-------------------------+-------------------------+\n",
      "|scrape_date|master_price_api_market_price|master_price_api_market_price_last3m|         item_code|master_priceapi_competitor_count|master_item_main_category|master_item_sub_category1|master_item_sub_category2|\n",
      "+-----------+-----------------------------+------------------------------------+------------------+--------------------------------+-------------------------+-------------------------+-------------------------+\n",
      "| 2020-12-15|                        160.7|                               160.7|000000001000150797|                             5.0|                 LEUCHTEN|            INNENLEUCHTEN|              BADLEUCHTEN|\n",
      "| 2020-12-15|                       248.14|                              248.14|000000001000191998|                             5.0|                      BAD|                   BADSET|                   BADSET|\n",
      "| 2020-12-15|                        542.6|                               542.6|000000001000133695|                             5.0|                   WOHNEN|     KOMMODEN & SIDEBO...|               HIGHBOARDS|\n",
      "| 2020-12-15|                        50.52|                               50.52|000000001000220828|                             5.0|            HEIMTEXTILIEN|               BETTWÄSCHE|     MAKO-SATIN-BETTWÄ...|\n",
      "| 2020-12-15|                        23.35|                               23.35|000000001000180637|                             5.0|                 BOUTIQUE|               DEKORATION|                  SCHALEN|\n",
      "| 2020-12-15|                         40.9|                                40.9|000000001000055220|                             5.0|            HEIMTEXTILIEN|     BETTDECKEN & KOPF...|         KUNSTFASERKISSEN|\n",
      "| 2020-12-15|                       164.15|                              164.15|000000001000137415|                             5.0|                 LEUCHTEN|            INNENLEUCHTEN|           DECKENLEUCHTEN|\n",
      "| 2020-12-15|                        22.51|                               22.51|000000001000156054|                             5.0|            HEIMTEXTILIEN|                   KISSEN|             KISSENBEZÜGE|\n",
      "| 2020-12-15|                        33.08|                               33.08|000000001000049662|                             5.0|            HEIMTEXTILIEN|                BETTLAKEN|         JERSEY-BETTLAKEN|\n",
      "| 2020-12-15|                       437.99|                              437.99|000000001000200242|                             3.0|          ESSZIMMERTISCHE|                ESSTISCHE|                KLASSISCH|\n",
      "| 2020-12-15|                        32.95|                               32.95|000000001000181006|                             5.0|            HEIMTEXTILIEN|               HANDTÜCHER|               HANDTÜCHER|\n",
      "| 2020-12-15|                       160.57|                              160.57|000000001000200677|                             5.0|                 LEUCHTEN|            INNENLEUCHTEN|            TISCHLEUCHTEN|\n",
      "| 2020-12-15|                       345.79|                              345.79|000000001000143930|                             4.0|                   WOHNEN|            TV-MEDIAMÖBEL|             TV-LOWBOARDS|\n",
      "| 2020-12-15|                        60.27|                               60.27|000000001000225480|                             3.0|            HEIMTEXTILIEN|               BETTWÄSCHE|         BIBER-BETTWÄSCHE|\n",
      "| 2020-12-15|                         8.49|                                8.49|000000001000017776|                             5.0|            HEIMTEXTILIEN|                   KISSEN|             KISSENBEZÜGE|\n",
      "| 2020-12-15|                        15.06|                               15.06|000000001000180731|                             5.0|                 BOUTIQUE|             AUFBEWAHRUNG|            BOXEN & KÖRBE|\n",
      "| 2020-12-15|                        77.19|                               77.19|000000001000168036|                             5.0|     TEPPICHE & BODENB...|         OUTDOOR-TEPPICHE|         OUTDOOR-TEPPICHE|\n",
      "| 2020-12-15|                        98.35|                               98.35|000000001000179611|                             5.0|                 LEUCHTEN|            INNENLEUCHTEN|           PENDELLEUCHTEN|\n",
      "| 2020-12-15|                         76.4|                                76.4|000000001000171634|                             5.0|                   WOHNEN|                   TISCHE|           BEISTELLTISCHE|\n",
      "| 2020-12-15|                       565.97|                              565.97|000000001000208821|                             5.0|        SCHLAFZIMMERMÖBEL|     KLEIDERSCHRÄNKE &...|        DREHTÜRENSCHRÄNKE|\n",
      "+-----------+-----------------------------+------------------------------------+------------------+--------------------------------+-------------------------+-------------------------+-------------------------+\n",
      "only showing top 20 rows\n",
      "\n"
     ]
    }
   ],
   "source": [
    "df.show()"
   ]
  },
  {
   "cell_type": "code",
   "execution_count": 31,
   "metadata": {
    "pycharm": {
     "name": "#%%\n"
    }
   },
   "outputs": [
    {
     "name": "stdout",
     "output_type": "stream",
     "text": [
      "+-----------+------------------+------+--------------------------------+-------------------------+\n",
      "|scrape_date|         item_code|   mpi|master_priceapi_competitor_count|master_item_main_category|\n",
      "+-----------+------------------+------+--------------------------------+-------------------------+\n",
      "| 2020-12-15|000000001000150797| 160.7|                             5.0|                 LEUCHTEN|\n",
      "| 2020-12-15|000000001000191998|248.14|                             5.0|                      BAD|\n",
      "| 2020-12-15|000000001000133695| 542.6|                             5.0|                   WOHNEN|\n",
      "| 2020-12-15|000000001000220828| 50.52|                             5.0|            HEIMTEXTILIEN|\n",
      "| 2020-12-15|000000001000180637| 23.35|                             5.0|                 BOUTIQUE|\n",
      "| 2020-12-15|000000001000055220|  40.9|                             5.0|            HEIMTEXTILIEN|\n",
      "| 2020-12-15|000000001000137415|164.15|                             5.0|                 LEUCHTEN|\n",
      "| 2020-12-15|000000001000156054| 22.51|                             5.0|            HEIMTEXTILIEN|\n",
      "| 2020-12-15|000000001000049662| 33.08|                             5.0|            HEIMTEXTILIEN|\n",
      "| 2020-12-15|000000001000200242|437.99|                             3.0|          ESSZIMMERTISCHE|\n",
      "| 2020-12-15|000000001000181006| 32.95|                             5.0|            HEIMTEXTILIEN|\n",
      "| 2020-12-15|000000001000200677|160.57|                             5.0|                 LEUCHTEN|\n",
      "| 2020-12-15|000000001000143930|345.79|                             4.0|                   WOHNEN|\n",
      "| 2020-12-15|000000001000225480| 60.27|                             3.0|            HEIMTEXTILIEN|\n",
      "| 2020-12-15|000000001000017776|  8.49|                             5.0|            HEIMTEXTILIEN|\n",
      "| 2020-12-15|000000001000180731| 15.06|                             5.0|                 BOUTIQUE|\n",
      "| 2020-12-15|000000001000168036| 77.19|                             5.0|     TEPPICHE & BODENB...|\n",
      "| 2020-12-15|000000001000179611| 98.35|                             5.0|                 LEUCHTEN|\n",
      "| 2020-12-15|000000001000171634|  76.4|                             5.0|                   WOHNEN|\n",
      "| 2020-12-15|000000001000208821|565.97|                             5.0|        SCHLAFZIMMERMÖBEL|\n",
      "+-----------+------------------+------+--------------------------------+-------------------------+\n",
      "only showing top 20 rows\n",
      "\n",
      "+--------------------+\n",
      "|            category|\n",
      "+--------------------+\n",
      "|TEPPICHE & BODENB...|\n",
      "|            HAUSHALT|\n",
      "|     ESSZIMMERTISCHE|\n",
      "|            LEUCHTEN|\n",
      "|             POLSTER|\n",
      "|                BÜRO|\n",
      "|              KINDER|\n",
      "|           FLURMÖBEL|\n",
      "|   SCHLAFZIMMERMÖBEL|\n",
      "|              WOHNEN|\n",
      "|              GARTEN|\n",
      "|               KÜCHE|\n",
      "|            BOUTIQUE|\n",
      "|                BABY|\n",
      "|       HEIMTEXTILIEN|\n",
      "|MATRATZEN&LATTENR...|\n",
      "|              BETTEN|\n",
      "|                 BAD|\n",
      "|ESSZIMMERSTÜHLE&B...|\n",
      "+--------------------+\n",
      "\n"
     ]
    }
   ],
   "source": [
    "df2 = spark.sql('SELECT scrape_date, item_code, master_price_api_market_price_last3m as mpi,master_priceapi_competitor_count,master_item_main_category  from MPI_test ORDER BY scrape_date DESC')\n",
    "df2.show()\n",
    "\n",
    "main_cat = spark.sql('SELECT DISTINCT master_item_main_category as category from MPI_test')\n",
    "main_cat.show()\n",
    "cat_list = main_cat.rdd.map(lambda x: x.category).collect()"
   ]
  },
  {
   "cell_type": "code",
   "execution_count": 6,
   "metadata": {
    "pycharm": {
     "name": "#%%\n"
    }
   },
   "outputs": [],
   "source": [
    "pd_df = df2.toPandas()\n"
   ]
  },
  {
   "cell_type": "code",
   "execution_count": 32,
   "metadata": {
    "pycharm": {
     "name": "#%%\n"
    }
   },
   "outputs": [
    {
     "name": "stdout",
     "output_type": "stream",
     "text": [
      "['TEPPICHE & BODENBELÄGE', 'HAUSHALT', 'ESSZIMMERTISCHE', 'LEUCHTEN', 'POLSTER', 'BÜRO', 'KINDER', 'FLURMÖBEL', 'SCHLAFZIMMERMÖBEL', 'WOHNEN', 'GARTEN', 'KÜCHE', 'BOUTIQUE', 'BABY', 'HEIMTEXTILIEN', 'MATRATZEN&LATTENROSTE', 'BETTEN', 'BAD', 'ESSZIMMERSTÜHLE&BÄNKE']\n"
     ]
    }
   ],
   "source": [
    "print(cat_list)\n",
    "cat_list_copy = cat_list"
   ]
  },
  {
   "cell_type": "code",
   "execution_count": 8,
   "metadata": {
    "pycharm": {
     "name": "#%%\n"
    }
   },
   "outputs": [
    {
     "data": {
      "text/html": [
       "<style>.container { width:100% !important; }</style>"
      ],
      "text/plain": [
       "<IPython.core.display.HTML object>"
      ]
     },
     "metadata": {},
     "output_type": "display_data"
    }
   ],
   "source": [
    "import pandas as pd\n",
    "import numpy as np\n",
    "\n",
    "import statsmodels.formula.api as smf\n",
    "\n",
    "%matplotlib inline\n",
    "import matplotlib.pyplot as plt\n",
    "plt.style.use('seaborn-whitegrid')\n",
    "\n",
    "from IPython.core.display import display, HTML\n",
    "display(HTML(\"<style>.container { width:100% !important; }</style>\"))\n",
    "\n",
    "pd.set_option('display.max_rows', 5000)\n"
   ]
  },
  {
   "cell_type": "code",
   "execution_count": 9,
   "metadata": {
    "pycharm": {
     "name": "#%%\n"
    }
   },
   "outputs": [
    {
     "name": "stdout",
     "output_type": "stream",
     "text": [
      "2020-12-15\n",
      "2020-09-29\n"
     ]
    }
   ],
   "source": [
    "print(pd_df['scrape_date'].max())\n",
    "print(pd_df['scrape_date'].min())\n",
    "\n",
    "pd_df['date_delta'] = (pd_df['scrape_date'] - pd_df['scrape_date'].min())  / np.timedelta64(7,'D')\n",
    "pd_df['log_mpi']= np.log(pd_df['mpi'])"
   ]
  },
  {
   "cell_type": "code",
   "execution_count": 10,
   "metadata": {
    "pycharm": {
     "name": "#%%\n"
    }
   },
   "outputs": [
    {
     "data": {
      "text/plain": [
       "0         11.0\n",
       "1         11.0\n",
       "2         11.0\n",
       "3         11.0\n",
       "4         11.0\n",
       "          ... \n",
       "270302     0.0\n",
       "270303     0.0\n",
       "270304     0.0\n",
       "270305     0.0\n",
       "270306     0.0\n",
       "Name: date_delta, Length: 270307, dtype: float64"
      ]
     },
     "execution_count": 10,
     "metadata": {},
     "output_type": "execute_result"
    }
   ],
   "source": [
    "pd_df['date_delta'].head(5000000)"
   ]
  },
  {
   "cell_type": "code",
   "execution_count": 11,
   "metadata": {
    "pycharm": {
     "name": "#%%\n"
    }
   },
   "outputs": [],
   "source": [
    "def run_model(data_frame=pd_df):\n",
    "    return smf.ols(\"mpi ~ date_delta + C(item_code)\",data_frame).fit()"
   ]
  },
  {
   "cell_type": "code",
   "execution_count": 33,
   "metadata": {
    "pycharm": {
     "name": "#%%\n"
    }
   },
   "outputs": [
    {
     "name": "stdout",
     "output_type": "stream",
     "text": [
      "['TEPPICHE & BODENBELÄGE', 'HAUSHALT', 'ESSZIMMERTISCHE', 'LEUCHTEN', 'POLSTER', 'BÜRO', 'KINDER', 'FLURMÖBEL', 'SCHLAFZIMMERMÖBEL', 'WOHNEN', 'GARTEN', 'KÜCHE', 'BOUTIQUE', 'BABY', 'HEIMTEXTILIEN', 'MATRATZEN&LATTENROSTE', 'BETTEN', 'BAD', 'ESSZIMMERSTÜHLE&BÄNKE']\n",
      "['TEPPICHE & BODENBELÄGE', 'HAUSHALT', 'ESSZIMMERTISCHE', 'LEUCHTEN', 'POLSTER', 'BÜRO', 'KINDER', 'FLURMÖBEL', 'SCHLAFZIMMERMÖBEL', 'WOHNEN', 'GARTEN', 'KÜCHE', 'BOUTIQUE', 'BABY', 'MATRATZEN&LATTENROSTE', 'BETTEN', 'BAD', 'ESSZIMMERSTÜHLE&BÄNKE']\n"
     ]
    }
   ],
   "source": [
    "print(cat_list)\n",
    "cat_list.remove('HEIMTEXTILIEN')\n",
    "print(cat_list)"
   ]
  },
  {
   "cell_type": "code",
   "execution_count": 34,
   "metadata": {
    "pycharm": {
     "name": "#%%\n"
    }
   },
   "outputs": [
    {
     "name": "stdout",
     "output_type": "stream",
     "text": [
      "Category = TEPPICHE & BODENBELÄGE\n",
      "Category = HAUSHALT\n",
      "Category = ESSZIMMERTISCHE\n",
      "Category = LEUCHTEN\n",
      "Category = POLSTER\n",
      "Category = BÜRO\n",
      "Category = KINDER\n",
      "Category = FLURMÖBEL\n",
      "Category = SCHLAFZIMMERMÖBEL\n",
      "Category = WOHNEN\n",
      "Category = GARTEN\n",
      "Category = KÜCHE\n",
      "Category = BOUTIQUE\n",
      "Category = BABY\n",
      "Category = MATRATZEN&LATTENROSTE\n",
      "Category = BETTEN\n",
      "Category = BAD\n",
      "Category = ESSZIMMERSTÜHLE&BÄNKE\n",
      "dict_keys(['TEPPICHE & BODENBELÄGE', 'HAUSHALT', 'ESSZIMMERTISCHE', 'LEUCHTEN', 'POLSTER', 'BÜRO', 'KINDER', 'FLURMÖBEL', 'SCHLAFZIMMERMÖBEL', 'WOHNEN', 'GARTEN', 'KÜCHE', 'BOUTIQUE', 'BABY', 'MATRATZEN&LATTENROSTE', 'BETTEN', 'BAD', 'ESSZIMMERSTÜHLE&BÄNKE'])\n"
     ]
    }
   ],
   "source": [
    "models = {}\n",
    "\n",
    "for cat in cat_list:\n",
    "    print('Category = ' + cat)\n",
    "    pd_df_one_cat = pd_df[pd_df['master_item_main_category'] == cat]\n",
    "    models[cat] = run_model(pd_df_one_cat)\n",
    "print(models.keys())\n"
   ]
  },
  {
   "cell_type": "code",
   "execution_count": 38,
   "metadata": {
    "pycharm": {
     "name": "#%%\n"
    }
   },
   "outputs": [
    {
     "name": "stdout",
     "output_type": "stream",
     "text": [
      "TEPPICHE & BODENBELÄGE\n",
      "Trend = -0.15 +/- 0.04\n",
      "HAUSHALT\n",
      "Trend = -1.12 +/- 0.14\n",
      "ESSZIMMERTISCHE\n",
      "Trend = -0.56 +/- 0.19\n",
      "LEUCHTEN\n",
      "Trend = 0.2 +/- 0.04\n",
      "POLSTER\n",
      "Trend = 0.78 +/- 0.18\n",
      "BÜRO\n",
      "Trend = -0.68 +/- 0.12\n",
      "KINDER\n",
      "Trend = -0.34 +/- 0.03\n",
      "FLURMÖBEL\n",
      "Trend = 0.03 +/- 0.03\n",
      "SCHLAFZIMMERMÖBEL\n",
      "Trend = 0.4 +/- 0.38\n",
      "WOHNEN\n",
      "Trend = -0.5 +/- 0.11\n",
      "GARTEN\n",
      "Trend = 0.15 +/- 0.06\n",
      "KÜCHE\n",
      "Trend = 0.63 +/- 0.25\n",
      "BOUTIQUE\n",
      "Trend = -0.04 +/- 0.01\n",
      "BABY\n",
      "Trend = -0.78 +/- 0.2\n",
      "MATRATZEN&LATTENROSTE\n",
      "Trend = -0.22 +/- 0.12\n",
      "BETTEN\n",
      "Trend = -1.37 +/- 0.1\n",
      "BAD\n",
      "Trend = -0.26 +/- 0.11\n",
      "ESSZIMMERSTÜHLE&BÄNKE\n",
      "Trend = -0.58 +/- 0.05\n"
     ]
    }
   ],
   "source": [
    "for categ in models.keys():\n",
    "    print(categ)\n",
    "    m     = models[categ].params[-1].round(2)\n",
    "    m_err = models[categ].bse[-1].round(2)\n",
    "    result = 'Trend = ' + str(m) + ' +/- ' + str(m_err)\n",
    "    #print(models[categ].summary())\n",
    "    print(result)"
   ]
  },
  {
   "cell_type": "code",
   "execution_count": 84,
   "metadata": {
    "pycharm": {
     "name": "#%%\n"
    }
   },
   "outputs": [
    {
     "data": {
      "text/plain": [
       "<AxesSubplot:xlabel='date_delta'>"
      ]
     },
     "execution_count": 84,
     "metadata": {},
     "output_type": "execute_result"
    },
    {
     "data": {
      "image/png": "[encoded data removed]",
      "text/plain": [
       "<Figure size 432x288 with 1 Axes>"
      ]
     },
     "metadata": {},
     "output_type": "display_data"
    }
   ],
   "source": [
    "#To investigate HEIMTEXTILIEN"
   ]
  }
 ],
 "metadata": {
  "kernelspec": {
   "display_name": "Python 3",
   "language": "python",
   "name": "python3"
  },
  "language_info": {
   "codemirror_mode": {
    "name": "ipython",
    "version": 3
   },
   "file_extension": ".py",
   "mimetype": "text/x-python",
   "name": "python",
   "nbconvert_exporter": "python",
   "pygments_lexer": "ipython3",
   "version": "3.8.5"
  }
 },
 "nbformat": 4,
 "nbformat_minor": 1
}
